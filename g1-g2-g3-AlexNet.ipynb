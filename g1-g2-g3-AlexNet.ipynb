{
 "cells": [
  {
   "cell_type": "code",
   "execution_count": 145,
   "metadata": {
    "_cell_guid": "79c7e3d0-c299-4dcb-8224-4455121ee9b0",
    "_uuid": "d629ff2d2480ee46fbb7e2d37f6b5fab8052498a"
   },
   "outputs": [],
   "source": [
    "import numpy as np\n",
    "import tensorflow as tf\n",
    "from tensorflow import keras\n",
    "from tensorflow.keras.models import Sequential\n",
    "from tensorflow.keras.layers import Activation, Dense, Dropout, Flatten, BatchNormalization, Conv2D, MaxPooling2D, Input\n",
    "from tensorflow.keras.optimizers import Adam\n",
    "from keras.models import load_model\n",
    "from tensorflow.keras.metrics import categorical_crossentropy\n",
    "from tensorflow.keras.preprocessing.image import ImageDataGenerator\n",
    "from sklearn.metrics import confusion_matrix, roc_curve, auc\n",
    "import itertools\n",
    "from itertools import cycle\n",
    "from sklearn import metrics\n",
    "from scipy import interp\n",
    "import os\n",
    "import shutil\n",
    "from keras import backend as K\n",
    "import random\n",
    "import glob\n",
    "import matplotlib.pyplot as plt\n",
    "import warnings\n",
    "warnings.simplefilter(action='ignore', category=FutureWarning)\n",
    "%matplotlib inline"
   ]
  },
  {
   "cell_type": "code",
   "execution_count": 146,
   "metadata": {},
   "outputs": [],
   "source": [
    "#import PIL\n",
    "#import os\n",
    "#from PIL import Image\n",
    "\n",
    "#f = r'E://box3/G/resized/128/train/G3'\n",
    "\n",
    "#os.listdir(f)\n",
    "\n",
    "#for file in os.listdir(f):\n",
    "#    f_img = f+\"/\"+file\n",
    "#    img = Image.open(f_img)\n",
    "#    img = img.resize((80,64))\n",
    "#    img.save(f_img)"
   ]
  },
  {
   "cell_type": "code",
   "execution_count": 147,
   "metadata": {},
   "outputs": [],
   "source": [
    "img_width, img_height = 150, 150\n",
    "\n",
    "train_data_dir = 'G/resized/128/train'\n",
    "#validation_data_dir = '../input/main-dataset/main_dataset/validation'\n",
    "test_data_dir = 'G/resized/128/test'\n",
    "nb_train_samples = 140\n",
    "nb_validation_samples = 60\n",
    "epochs = 120\n",
    "batch_size = 10\n",
    "#regularizer = tf.keras.regularizers.l2(0.01,)\n",
    "\n",
    "#if K.image_data_format() == 'channels_first':\n",
    "#  input_shape = (3, img_width, img_height)\n",
    "#else:\n",
    "input_shape = (img_width, img_height, 3)"
   ]
  },
  {
   "cell_type": "code",
   "execution_count": 148,
   "metadata": {},
   "outputs": [],
   "source": [
    "train_datagen = ImageDataGenerator(\n",
    "    #rescale = 1./255,\n",
    "    #shear_range = 0.3,\n",
    "    #zoom_range = 0.2,\n",
    "    #width_shift_range=0.2,\n",
    "    #height_shift_range=0.2,\n",
    "    #horizontal_flip = True\n",
    ")\n",
    "\n",
    "test_datagen = ImageDataGenerator(#rescale = 1./255\n",
    ")"
   ]
  },
  {
   "cell_type": "code",
   "execution_count": 149,
   "metadata": {},
   "outputs": [
    {
     "name": "stdout",
     "output_type": "stream",
     "text": [
      "Found 155 images belonging to 3 classes.\n"
     ]
    }
   ],
   "source": [
    "train_batches = train_datagen.flow_from_directory(\n",
    "    train_data_dir,\n",
    "    target_size = (img_width, img_height),\n",
    "    batch_size = batch_size,\n",
    "    #classes=['EOISINOPHIL', 'LYMPHOCYTE', 'MONOCYTE', 'NEUTROPHIL'],\n",
    "    class_mode = 'categorical')"
   ]
  },
  {
   "cell_type": "code",
   "execution_count": 150,
   "metadata": {},
   "outputs": [
    {
     "name": "stdout",
     "output_type": "stream",
     "text": [
      "Found 60 images belonging to 3 classes.\n"
     ]
    }
   ],
   "source": [
    "test_batches = test_datagen.flow_from_directory(\n",
    "    test_data_dir,\n",
    "    target_size = (img_width, img_height),\n",
    "    batch_size = 60,\n",
    "    #color_mode = 'grayscale',\n",
    "    class_mode = 'categorical')"
   ]
  },
  {
   "cell_type": "code",
   "execution_count": 151,
   "metadata": {},
   "outputs": [],
   "source": [
    "def plots(ims, figsize=(12,6), rows=None, interp=False, titles=None):\n",
    "    if type(ims[0]) is np.ndarray:\n",
    "        ims = np.array(ims).astype(np.uint8)\n",
    "        if (ims.shape[-1] != 3):\n",
    "            ims = ims.transpose((0,2,3,1))\n",
    "    f = plt.figure(figsize=figsize)\n",
    "    cols = len(ims)//rows if len(ims) % 2 == 0 else len(ims)//rows +1\n",
    "    for i in range(len(ims)):\n",
    "        sp = f.add_subplot(rows, cols, i+1)\n",
    "        sp.axis('Off')\n",
    "        if titles is not None:\n",
    "            sp.set_title(titles[i], fontsize=16)\n",
    "        plt.imshow(ims[i], interpolation=None if interp else 'none')"
   ]
  },
  {
   "cell_type": "code",
   "execution_count": 152,
   "metadata": {},
   "outputs": [],
   "source": [
    "imgs, labels = next(train_batches)"
   ]
  },
  {
   "cell_type": "code",
   "execution_count": 153,
   "metadata": {},
   "outputs": [],
   "source": [
    "#model.compile(Adam(lr=0.0001), loss='categorical_crossentropy', metrics=['accuracy'])"
   ]
  },
  {
   "cell_type": "code",
   "execution_count": 154,
   "metadata": {},
   "outputs": [],
   "source": [
    "#Eoisinophil=8[1.0.0.0],Lymphocyte=4[0.1.0.0],monocyte=2[0.0.1.0],neutrophil=1[0.0.0.1]-->Labels\n",
    "#plots(imgs, rows=4, titles=labels)"
   ]
  },
  {
   "cell_type": "code",
   "execution_count": 155,
   "metadata": {},
   "outputs": [],
   "source": [
    "#model = Sequential()\n",
    "\n",
    "#model.add(Conv2D(32, kernel_size=(11,11), strides= 4,\n",
    "#                        padding= 'valid', activation= 'relu',\n",
    "#                        input_shape= input_shape,\n",
    "#                        kernel_initializer= 'he_normal'))\n",
    "#model.add(MaxPooling2D(pool_size=(3,3), strides= (2,2),\n",
    "#                              padding= 'valid', data_format= None))\n",
    "\n",
    "#model.add(Conv2D(256, kernel_size=(5,5), strides= 1,\n",
    "#                        padding= 'same', activation= 'relu',\n",
    "#                        kernel_initializer= 'he_normal'))\n",
    "#model.add(MaxPooling2D(pool_size=(3,3), strides= (2,2),\n",
    "#                              padding= 'valid', data_format= None)) \n",
    "\n",
    "#model.add(Conv2D(384, kernel_size=(3,3), strides= 1,\n",
    "#                        padding= 'same', activation= 'relu',\n",
    "#                        kernel_initializer= 'he_normal'))\n",
    "\n",
    "#model.add(Conv2D(384, kernel_size=(3,3), strides= 1,\n",
    "#                        padding= 'same', activation= 'relu',\n",
    "#                        kernel_initializer= 'he_normal'))\n",
    "\n",
    "#model.add(Conv2D(256, kernel_size=(3,3), strides= 1,\n",
    "#                        padding= 'same', activation= 'relu',\n",
    "#                        kernel_initializer= 'he_normal'))\n",
    "\n",
    "#model.add(MaxPooling2D(pool_size=(3,3), strides= (2,2),\n",
    "#                              padding= 'valid', data_format= None))\n",
    "\n",
    "#model.add(Flatten())\n",
    "#model.add(Dense(4096, activation= 'relu'))\n",
    "#model.add(Dense(4096, activation= 'relu'))\n",
    "#model.add(Dense(1000, activation= 'relu'))\n",
    "#model.add(Dense(4, activation= 'softmax'))\n",
    "\n",
    "#model.compile(optimizer= tf.keras.optimizers.Adam(0.001),\n",
    "#                    loss='categorical_crossentropy',\n",
    "#                    metrics=['accuracy'])"
   ]
  },
  {
   "cell_type": "code",
   "execution_count": 156,
   "metadata": {},
   "outputs": [],
   "source": [
    "#model = Sequential()\n",
    "\n",
    "#model.add(Conv2D(filters=64, kernel_size=(11,11), strides=(4,4), activation='relu', input_shape=(64,64,3)))\n",
    "#model.add(BatchNormalization())\n",
    "#model.add(MaxPooling2D(pool_size=(3,3), strides=(2,2)))\n",
    "#model.add(Conv2D(filters=128, kernel_size=(5,5), strides=(1,1), activation='relu', padding=\"same\"))\n",
    "#model.add(BatchNormalization())\n",
    "#model.add(MaxPooling2D(pool_size=(3,3), strides=(2,2)))\n",
    "#model.add(Conv2D(filters=384, kernel_size=(3,3), strides=(1,1), activation='relu', padding=\"same\"))\n",
    "#model.add(BatchNormalization())\n",
    "#model.add(Conv2D(filters=384, kernel_size=(3,3), strides=(1,1), activation='relu', padding=\"same\"))\n",
    "#model.add(BatchNormalization())\n",
    "#model.add(Conv2D(filters=256, kernel_size=(3,3), strides=(1,1), activation='relu', padding=\"same\"))\n",
    "#model.add(BatchNormalization())\n",
    "#model.add(MaxPooling2D(pool_size=(2,2), strides=(1,1)))\n",
    "#model.add(Conv2D(filters=128, kernel_size=(5,5), strides=(1,1), activation='relu', padding=\"same\"))\n",
    "#model.add(BatchNormalization())\n",
    "\n",
    "#model.add(Flatten())\n",
    "#model.add(Dense(4096, activation='relu'))\n",
    "#model.add(Dropout(0.5))\n",
    "#model.add(Dense(4096, activation='relu'))\n",
    "#model.add(Dropout(0.5))\n",
    "#model.add(Dense(3, activation='softmax'))\n",
    "\n",
    "#model.compile(optimizer= tf.keras.optimizers.Adam(0.001),\n",
    "#                    loss='categorical_crossentropy',\n",
    "#                    metrics=['accuracy'])"
   ]
  },
  {
   "cell_type": "code",
   "execution_count": 157,
   "metadata": {
    "scrolled": true
   },
   "outputs": [],
   "source": [
    "#model = Sequential()\n",
    "\n",
    "#model.add(Conv2D(filters=64, kernel_size=(3,3),strides=(1,1),activation='relu', input_shape=(64,64,3)))\n",
    "#model.add(BatchNormalization())\n",
    "#model.add(Conv2D(filters=64, kernel_size=(3,3),strides=(1,1), activation='relu', input_shape=(64,64,3)))\n",
    "#model.add(BatchNormalization())\n",
    "#model.add(Conv2D(filters=64, kernel_size=(3,3),strides=(1,1), activation='relu', input_shape=(64,64,3)))\n",
    "#model.add(BatchNormalization())\n",
    "#model.add(MaxPooling2D(pool_size=(3,3), strides=(2,2)))\n",
    "#model.add(Conv2D(filters=128, kernel_size=(3,3), strides=(1,1), activation='relu', padding=\"same\"))\n",
    "#model.add(BatchNormalization())\n",
    "#model.add(Conv2D(filters=128, kernel_size=(3,3), strides=(1,1), activation='relu', padding=\"same\"))\n",
    "#model.add(BatchNormalization())\n",
    "#model.add(MaxPooling2D(pool_size=(3,3), strides=(2,2)))\n",
    "#model.add(Conv2D(filters=128, kernel_size=(3,3), strides=(1,1), activation='relu', padding=\"same\"))\n",
    "#model.add(BatchNormalization())\n",
    "#model.add(Conv2D(filters=128, kernel_size=(3,3), strides=(1,1), activation='relu', padding=\"same\"))\n",
    "#model.add(BatchNormalization())\n",
    "#model.add(MaxPooling2D(pool_size=(3,3), strides=(2,2)))\n",
    "#model.add(Conv2D(filters=128, kernel_size=(3,3), strides=(1,1), activation='relu', padding=\"same\"))\n",
    "#model.add(BatchNormalization())\n",
    "#model.add(Conv2D(filters=128, kernel_size=(3,3), strides=(1,1), activation='relu', padding=\"same\"))\n",
    "#model.add(BatchNormalization())         \n",
    "#model.add(Flatten())\n",
    "#model.add(Dense(4096, activation='relu'))\n",
    "#model.add(Dropout(0.5))\n",
    "#model.add(Dense(4096, activation='relu'))\n",
    "#model.add(Dropout(0.5))\n",
    "#model.add(Dense(3,activation='softmax'))\n",
    "\n",
    "#model.compile(optimizer= tf.keras.optimizers.Adam(0.001),\n",
    "#                    loss='categorical_crossentropy',\n",
    "#                    metrics=['accuracy'])\n",
    "\n",
    "#model.summary()"
   ]
  },
  {
   "cell_type": "code",
   "execution_count": 158,
   "metadata": {},
   "outputs": [],
   "source": [
    "model = Sequential()\n",
    "\n",
    "model.add(Conv2D(filters=32, kernel_size=(11,11), strides=(4,4), activation='relu', input_shape=(150,150,3)))\n",
    "model.add(BatchNormalization())\n",
    "model.add(MaxPooling2D(pool_size=(3,3), strides=(2,2)))\n",
    "model.add(Conv2D(filters=256, kernel_size=(5,5), strides=(1,1), activation='relu', padding=\"same\"))\n",
    "model.add(BatchNormalization())\n",
    "model.add(MaxPooling2D(pool_size=(3,3), strides=(2,2)))\n",
    "model.add(Conv2D(filters=384, kernel_size=(3,3), strides=(1,1), activation='relu', padding=\"same\"))\n",
    "model.add(BatchNormalization())\n",
    "model.add(Conv2D(filters=384, kernel_size=(3,3), strides=(1,1), activation='relu', padding=\"same\"))\n",
    "model.add(BatchNormalization())\n",
    "model.add(Conv2D(filters=256, kernel_size=(3,3), strides=(1,1), activation='relu', padding=\"same\"))\n",
    "model.add(BatchNormalization())\n",
    "model.add(MaxPooling2D(pool_size=(3,3), strides=(2,2)))\n",
    "model.add(Flatten())\n",
    "model.add(Dense(4096, activation='relu'))\n",
    "model.add(Dropout(0.5))\n",
    "model.add(Dense(4096, activation='relu'))\n",
    "model.add(Dropout(0.5))\n",
    "model.add(Dense(3, activation='softmax'))\n",
    "\n",
    "model.compile(optimizer= tf.keras.optimizers.Adam(0.001),\n",
    "                    loss='categorical_crossentropy',\n",
    "                    metrics=['accuracy'])"
   ]
  },
  {
   "cell_type": "code",
   "execution_count": 159,
   "metadata": {},
   "outputs": [
    {
     "name": "stdout",
     "output_type": "stream",
     "text": [
      "Epoch 1/120\n"
     ]
    },
    {
     "name": "stderr",
     "output_type": "stream",
     "text": [
      "c:\\users\\terraform\\appdata\\local\\programs\\python\\python37\\lib\\site-packages\\ipykernel_launcher.py:6: UserWarning: `Model.fit_generator` is deprecated and will be removed in a future version. Please use `Model.fit`, which supports generators.\n",
      "  \n"
     ]
    },
    {
     "name": "stdout",
     "output_type": "stream",
     "text": [
      "10/10 [==============================] - ETA: 0s - loss: 12.0747 - accuracy: 0.4316WARNING:tensorflow:5 out of the last 5 calls to <function Model.make_test_function.<locals>.test_function at 0x00000237931CA948> triggered tf.function retracing. Tracing is expensive and the excessive number of tracings could be due to (1) creating @tf.function repeatedly in a loop, (2) passing tensors with different shapes, (3) passing Python objects instead of tensors. For (1), please define your @tf.function outside of the loop. For (2), @tf.function has reduce_retracing=True option that can avoid unnecessary retracing. For (3), please refer to https://www.tensorflow.org/guide/function#controlling_retracing and https://www.tensorflow.org/api_docs/python/tf/function for  more details.\n",
      "WARNING:tensorflow:Your input ran out of data; interrupting training. Make sure that your dataset or generator can generate at least `steps_per_epoch * epochs` batches (in this case, 6 batches). You may need to use the repeat() function when building your dataset.\n",
      "10/10 [==============================] - 11s 607ms/step - loss: 12.0747 - accuracy: 0.4316 - val_loss: 6981.6904 - val_accuracy: 0.3333\n",
      "Epoch 2/120\n",
      "10/10 [==============================] - 5s 504ms/step - loss: 21.9642 - accuracy: 0.2526\n",
      "Epoch 3/120\n",
      "10/10 [==============================] - 5s 478ms/step - loss: 15.3044 - accuracy: 0.4105\n",
      "Epoch 4/120\n",
      "10/10 [==============================] - 5s 478ms/step - loss: 18.4513 - accuracy: 0.4000\n",
      "Epoch 5/120\n",
      "10/10 [==============================] - 5s 469ms/step - loss: 15.4195 - accuracy: 0.3800\n",
      "Epoch 6/120\n",
      "10/10 [==============================] - 5s 470ms/step - loss: 11.3745 - accuracy: 0.4200\n",
      "Epoch 7/120\n",
      "10/10 [==============================] - 5s 470ms/step - loss: 15.5256 - accuracy: 0.4105\n",
      "Epoch 8/120\n",
      "10/10 [==============================] - 5s 470ms/step - loss: 10.0612 - accuracy: 0.3100\n",
      "Epoch 9/120\n",
      "10/10 [==============================] - 5s 476ms/step - loss: 10.0653 - accuracy: 0.3300\n",
      "Epoch 10/120\n",
      "10/10 [==============================] - 5s 464ms/step - loss: 5.8682 - accuracy: 0.3053\n",
      "Epoch 11/120\n",
      "10/10 [==============================] - 5s 470ms/step - loss: 5.8617 - accuracy: 0.3700\n",
      "Epoch 12/120\n",
      "10/10 [==============================] - 5s 476ms/step - loss: 3.5981 - accuracy: 0.3300\n",
      "Epoch 13/120\n",
      "10/10 [==============================] - 5s 465ms/step - loss: 3.3134 - accuracy: 0.3579\n",
      "Epoch 14/120\n",
      "10/10 [==============================] - 5s 470ms/step - loss: 2.6841 - accuracy: 0.3800\n",
      "Epoch 15/120\n",
      "10/10 [==============================] - 5s 469ms/step - loss: 2.2373 - accuracy: 0.4316\n",
      "Epoch 16/120\n",
      "10/10 [==============================] - 5s 468ms/step - loss: 1.6916 - accuracy: 0.4947\n",
      "Epoch 17/120\n",
      "10/10 [==============================] - 5s 470ms/step - loss: 2.3486 - accuracy: 0.4526\n",
      "Epoch 18/120\n",
      "10/10 [==============================] - 5s 474ms/step - loss: 2.4993 - accuracy: 0.4842\n",
      "Epoch 19/120\n",
      "10/10 [==============================] - 5s 472ms/step - loss: 2.8362 - accuracy: 0.4947\n",
      "Epoch 20/120\n",
      "10/10 [==============================] - 5s 474ms/step - loss: 2.4485 - accuracy: 0.4700\n",
      "Epoch 21/120\n",
      "10/10 [==============================] - 5s 478ms/step - loss: 2.0053 - accuracy: 0.4700\n",
      "Epoch 22/120\n",
      "10/10 [==============================] - 5s 501ms/step - loss: 1.2628 - accuracy: 0.5000\n",
      "Epoch 23/120\n",
      "10/10 [==============================] - 5s 489ms/step - loss: 1.6504 - accuracy: 0.4600\n",
      "Epoch 24/120\n",
      "10/10 [==============================] - 5s 496ms/step - loss: 1.0003 - accuracy: 0.5684\n",
      "Epoch 25/120\n",
      "10/10 [==============================] - 5s 485ms/step - loss: 1.2453 - accuracy: 0.5053\n",
      "Epoch 26/120\n",
      "10/10 [==============================] - 5s 478ms/step - loss: 1.1563 - accuracy: 0.6000\n",
      "Epoch 27/120\n",
      "10/10 [==============================] - 5s 481ms/step - loss: 1.3365 - accuracy: 0.4421\n",
      "Epoch 28/120\n",
      "10/10 [==============================] - 5s 510ms/step - loss: 1.6729 - accuracy: 0.5800\n",
      "Epoch 29/120\n",
      "10/10 [==============================] - 5s 476ms/step - loss: 1.6819 - accuracy: 0.5200\n",
      "Epoch 30/120\n",
      "10/10 [==============================] - 5s 483ms/step - loss: 1.2825 - accuracy: 0.6000\n",
      "Epoch 31/120\n",
      "10/10 [==============================] - 5s 480ms/step - loss: 1.0427 - accuracy: 0.5400\n",
      "Epoch 32/120\n",
      "10/10 [==============================] - 5s 483ms/step - loss: 1.0267 - accuracy: 0.6000\n",
      "Epoch 33/120\n",
      "10/10 [==============================] - 5s 511ms/step - loss: 1.6342 - accuracy: 0.5400\n",
      "Epoch 34/120\n",
      "10/10 [==============================] - 6s 569ms/step - loss: 1.0397 - accuracy: 0.6316\n",
      "Epoch 35/120\n",
      "10/10 [==============================] - 5s 476ms/step - loss: 0.9215 - accuracy: 0.6211\n",
      "Epoch 36/120\n",
      "10/10 [==============================] - 5s 481ms/step - loss: 1.0807 - accuracy: 0.5684\n",
      "Epoch 37/120\n",
      "10/10 [==============================] - 5s 473ms/step - loss: 1.2280 - accuracy: 0.5368\n",
      "Epoch 38/120\n",
      "10/10 [==============================] - 5s 479ms/step - loss: 0.9977 - accuracy: 0.5895\n",
      "Epoch 39/120\n",
      "10/10 [==============================] - 5s 477ms/step - loss: 1.3938 - accuracy: 0.5895\n",
      "Epoch 40/120\n",
      "10/10 [==============================] - 5s 479ms/step - loss: 1.0970 - accuracy: 0.6000\n",
      "Epoch 41/120\n",
      "10/10 [==============================] - 5s 473ms/step - loss: 1.1968 - accuracy: 0.6000\n",
      "Epoch 42/120\n",
      "10/10 [==============================] - 5s 470ms/step - loss: 0.9616 - accuracy: 0.5895\n",
      "Epoch 43/120\n",
      "10/10 [==============================] - 5s 470ms/step - loss: 0.9310 - accuracy: 0.5789\n",
      "Epoch 44/120\n",
      "10/10 [==============================] - 5s 469ms/step - loss: 0.7046 - accuracy: 0.6947\n",
      "Epoch 45/120\n",
      "10/10 [==============================] - 5s 475ms/step - loss: 1.0160 - accuracy: 0.6421\n",
      "Epoch 46/120\n",
      "10/10 [==============================] - 5s 487ms/step - loss: 1.0033 - accuracy: 0.5895\n",
      "Epoch 47/120\n",
      "10/10 [==============================] - 5s 471ms/step - loss: 1.0314 - accuracy: 0.5474\n",
      "Epoch 48/120\n",
      "10/10 [==============================] - 5s 477ms/step - loss: 1.1632 - accuracy: 0.6400\n",
      "Epoch 49/120\n",
      "10/10 [==============================] - 5s 475ms/step - loss: 1.0029 - accuracy: 0.5895\n",
      "Epoch 50/120\n",
      "10/10 [==============================] - 5s 471ms/step - loss: 1.1616 - accuracy: 0.5474\n",
      "Epoch 51/120\n",
      "10/10 [==============================] - 5s 473ms/step - loss: 1.0433 - accuracy: 0.6105\n",
      "Epoch 52/120\n",
      "10/10 [==============================] - 5s 489ms/step - loss: 1.0163 - accuracy: 0.6000\n",
      "Epoch 53/120\n",
      "10/10 [==============================] - 5s 479ms/step - loss: 0.9748 - accuracy: 0.5700\n",
      "Epoch 54/120\n",
      "10/10 [==============================] - 5s 476ms/step - loss: 0.7499 - accuracy: 0.6842\n",
      "Epoch 55/120\n",
      "10/10 [==============================] - 5s 483ms/step - loss: 0.8788 - accuracy: 0.6000\n",
      "Epoch 56/120\n",
      "10/10 [==============================] - 5s 475ms/step - loss: 0.8136 - accuracy: 0.6000\n",
      "Epoch 57/120\n",
      "10/10 [==============================] - 5s 487ms/step - loss: 0.7764 - accuracy: 0.6105\n",
      "Epoch 58/120\n",
      "10/10 [==============================] - 5s 474ms/step - loss: 0.9257 - accuracy: 0.6526\n",
      "Epoch 59/120\n",
      "10/10 [==============================] - 5s 476ms/step - loss: 0.9660 - accuracy: 0.5600\n",
      "Epoch 60/120\n",
      "10/10 [==============================] - 5s 480ms/step - loss: 0.9339 - accuracy: 0.6600\n",
      "Epoch 61/120\n",
      "10/10 [==============================] - 5s 474ms/step - loss: 0.7781 - accuracy: 0.7053\n",
      "Epoch 62/120\n",
      "10/10 [==============================] - 5s 470ms/step - loss: 0.6690 - accuracy: 0.6842\n",
      "Epoch 63/120\n",
      "10/10 [==============================] - 5s 475ms/step - loss: 0.9749 - accuracy: 0.6842\n",
      "Epoch 64/120\n",
      "10/10 [==============================] - 5s 494ms/step - loss: 0.9506 - accuracy: 0.6200\n",
      "Epoch 65/120\n",
      "10/10 [==============================] - 5s 516ms/step - loss: 0.6340 - accuracy: 0.7263\n",
      "Epoch 66/120\n",
      "10/10 [==============================] - 5s 486ms/step - loss: 0.6694 - accuracy: 0.7474\n",
      "Epoch 67/120\n",
      "10/10 [==============================] - 5s 470ms/step - loss: 0.7037 - accuracy: 0.7300\n",
      "Epoch 68/120\n",
      "10/10 [==============================] - 5s 476ms/step - loss: 0.7953 - accuracy: 0.6900\n",
      "Epoch 69/120\n",
      "10/10 [==============================] - 5s 510ms/step - loss: 0.8481 - accuracy: 0.7158\n",
      "Epoch 70/120\n"
     ]
    },
    {
     "name": "stdout",
     "output_type": "stream",
     "text": [
      "10/10 [==============================] - 5s 469ms/step - loss: 1.0769 - accuracy: 0.6500\n",
      "Epoch 71/120\n",
      "10/10 [==============================] - 5s 480ms/step - loss: 0.6578 - accuracy: 0.6900\n",
      "Epoch 72/120\n",
      "10/10 [==============================] - 5s 470ms/step - loss: 0.8905 - accuracy: 0.6700\n",
      "Epoch 73/120\n",
      "10/10 [==============================] - 5s 478ms/step - loss: 0.8122 - accuracy: 0.7474\n",
      "Epoch 74/120\n",
      "10/10 [==============================] - 5s 474ms/step - loss: 0.6529 - accuracy: 0.7300\n",
      "Epoch 75/120\n",
      "10/10 [==============================] - 5s 473ms/step - loss: 0.6943 - accuracy: 0.6632\n",
      "Epoch 76/120\n",
      "10/10 [==============================] - 5s 470ms/step - loss: 0.5744 - accuracy: 0.7684\n",
      "Epoch 77/120\n",
      "10/10 [==============================] - 5s 470ms/step - loss: 0.4405 - accuracy: 0.8105\n",
      "Epoch 78/120\n",
      "10/10 [==============================] - 5s 474ms/step - loss: 0.4609 - accuracy: 0.8400\n",
      "Epoch 79/120\n",
      "10/10 [==============================] - 5s 464ms/step - loss: 0.8320 - accuracy: 0.7474\n",
      "Epoch 80/120\n",
      "10/10 [==============================] - 5s 467ms/step - loss: 0.6236 - accuracy: 0.6842\n",
      "Epoch 81/120\n",
      "10/10 [==============================] - 5s 470ms/step - loss: 1.1129 - accuracy: 0.6842\n",
      "Epoch 82/120\n",
      "10/10 [==============================] - 5s 476ms/step - loss: 0.7583 - accuracy: 0.7100\n",
      "Epoch 83/120\n",
      "10/10 [==============================] - 5s 475ms/step - loss: 0.6820 - accuracy: 0.7600\n",
      "Epoch 84/120\n",
      "10/10 [==============================] - 5s 466ms/step - loss: 0.7519 - accuracy: 0.7000\n",
      "Epoch 85/120\n",
      "10/10 [==============================] - 5s 465ms/step - loss: 0.6233 - accuracy: 0.7789\n",
      "Epoch 86/120\n",
      "10/10 [==============================] - 5s 468ms/step - loss: 1.1181 - accuracy: 0.6526\n",
      "Epoch 87/120\n",
      "10/10 [==============================] - 5s 471ms/step - loss: 0.7952 - accuracy: 0.7200\n",
      "Epoch 88/120\n",
      "10/10 [==============================] - 5s 471ms/step - loss: 0.7408 - accuracy: 0.6900\n",
      "Epoch 89/120\n",
      "10/10 [==============================] - 5s 467ms/step - loss: 0.5843 - accuracy: 0.7789\n",
      "Epoch 90/120\n",
      "10/10 [==============================] - 5s 463ms/step - loss: 0.6624 - accuracy: 0.7263\n",
      "Epoch 91/120\n",
      "10/10 [==============================] - 5s 464ms/step - loss: 0.4638 - accuracy: 0.7895\n",
      "Epoch 92/120\n",
      "10/10 [==============================] - 5s 465ms/step - loss: 0.3386 - accuracy: 0.8737\n",
      "Epoch 93/120\n",
      "10/10 [==============================] - 5s 466ms/step - loss: 0.6373 - accuracy: 0.8000\n",
      "Epoch 94/120\n",
      "10/10 [==============================] - 5s 470ms/step - loss: 0.4343 - accuracy: 0.8300\n",
      "Epoch 95/120\n",
      "10/10 [==============================] - 5s 462ms/step - loss: 1.2719 - accuracy: 0.7474\n",
      "Epoch 96/120\n",
      "10/10 [==============================] - 5s 468ms/step - loss: 0.5638 - accuracy: 0.7789\n",
      "Epoch 97/120\n",
      "10/10 [==============================] - 5s 465ms/step - loss: 0.6914 - accuracy: 0.7400\n",
      "Epoch 98/120\n",
      "10/10 [==============================] - 5s 468ms/step - loss: 0.5610 - accuracy: 0.8100\n",
      "Epoch 99/120\n",
      "10/10 [==============================] - 5s 472ms/step - loss: 0.5230 - accuracy: 0.7700\n",
      "Epoch 100/120\n",
      "10/10 [==============================] - 5s 472ms/step - loss: 0.6456 - accuracy: 0.7895\n",
      "Epoch 101/120\n",
      "10/10 [==============================] - 5s 466ms/step - loss: 0.7324 - accuracy: 0.7579\n",
      "Epoch 102/120\n",
      "10/10 [==============================] - 5s 464ms/step - loss: 0.7306 - accuracy: 0.7368\n",
      "Epoch 103/120\n",
      "10/10 [==============================] - 5s 484ms/step - loss: 0.7369 - accuracy: 0.7368\n",
      "Epoch 104/120\n",
      "10/10 [==============================] - 5s 467ms/step - loss: 0.4577 - accuracy: 0.8200\n",
      "Epoch 105/120\n",
      "10/10 [==============================] - 5s 484ms/step - loss: 0.3664 - accuracy: 0.8100\n",
      "Epoch 106/120\n",
      "10/10 [==============================] - 5s 496ms/step - loss: 0.5512 - accuracy: 0.7579\n",
      "Epoch 107/120\n",
      "10/10 [==============================] - 5s 487ms/step - loss: 0.3727 - accuracy: 0.8700\n",
      "Epoch 108/120\n",
      "10/10 [==============================] - 5s 519ms/step - loss: 0.7015 - accuracy: 0.7684\n",
      "Epoch 109/120\n",
      "10/10 [==============================] - 6s 596ms/step - loss: 0.4747 - accuracy: 0.8211\n",
      "Epoch 110/120\n",
      "10/10 [==============================] - 6s 630ms/step - loss: 0.3929 - accuracy: 0.8421\n",
      "Epoch 111/120\n",
      "10/10 [==============================] - 5s 485ms/step - loss: 0.4069 - accuracy: 0.8300\n",
      "Epoch 112/120\n",
      "10/10 [==============================] - 5s 480ms/step - loss: 0.6666 - accuracy: 0.7789\n",
      "Epoch 113/120\n",
      "10/10 [==============================] - 5s 482ms/step - loss: 0.5674 - accuracy: 0.8600\n",
      "Epoch 114/120\n",
      "10/10 [==============================] - 5s 471ms/step - loss: 0.6648 - accuracy: 0.7263\n",
      "Epoch 115/120\n",
      "10/10 [==============================] - 5s 477ms/step - loss: 0.4165 - accuracy: 0.8500\n",
      "Epoch 116/120\n",
      "10/10 [==============================] - 5s 466ms/step - loss: 0.5655 - accuracy: 0.8211\n",
      "Epoch 117/120\n",
      "10/10 [==============================] - 5s 467ms/step - loss: 0.3060 - accuracy: 0.8526\n",
      "Epoch 118/120\n",
      "10/10 [==============================] - 5s 464ms/step - loss: 0.3346 - accuracy: 0.8526\n",
      "Epoch 119/120\n",
      "10/10 [==============================] - 5s 474ms/step - loss: 0.2966 - accuracy: 0.8600\n",
      "Epoch 120/120\n",
      "10/10 [==============================] - 5s 470ms/step - loss: 0.4711 - accuracy: 0.8200\n",
      "Wall time: 9min 48s\n"
     ]
    }
   ],
   "source": [
    "%%time\n",
    "h = model.fit_generator(\n",
    "    train_batches,\n",
    "    steps_per_epoch = 10,\n",
    "    epochs = epochs,\n",
    "    validation_data = test_batches,\n",
    "    validation_steps = nb_validation_samples // batch_size,\n",
    "    #callbacks=[\n",
    "    #    tf.keras.callbacks.ModelCheckpoint(filepath = '/kaggle/working/model_{val_accuracy:.3f}.h5', save_best_only=True,\n",
    "    #                                      save_weights_only=False, monitor='val_accuracy')\n",
    "    #]\n",
    ")"
   ]
  },
  {
   "cell_type": "code",
   "execution_count": 160,
   "metadata": {},
   "outputs": [],
   "source": [
    "test_imgs, test_labels = next(test_batches)\n",
    "#plots(test_imgs, rows=10, titles=test_labels)"
   ]
  },
  {
   "cell_type": "code",
   "execution_count": 161,
   "metadata": {},
   "outputs": [],
   "source": [
    "rounded_labels = np.argmax(test_labels, axis=-1)"
   ]
  },
  {
   "cell_type": "code",
   "execution_count": 162,
   "metadata": {},
   "outputs": [],
   "source": [
    "model.save('model_0.92015612.h5')\n",
    "test_model = load_model('model_0.92015612.h5')"
   ]
  },
  {
   "cell_type": "code",
   "execution_count": 163,
   "metadata": {},
   "outputs": [
    {
     "name": "stderr",
     "output_type": "stream",
     "text": [
      "c:\\users\\terraform\\appdata\\local\\programs\\python\\python37\\lib\\site-packages\\ipykernel_launcher.py:1: UserWarning: `Model.predict_generator` is deprecated and will be removed in a future version. Please use `Model.predict`, which supports generators.\n",
      "  \"\"\"Entry point for launching an IPython kernel.\n"
     ]
    },
    {
     "name": "stdout",
     "output_type": "stream",
     "text": [
      "WARNING:tensorflow:6 out of the last 6 calls to <function Model.make_predict_function.<locals>.predict_function at 0x000002379734B048> triggered tf.function retracing. Tracing is expensive and the excessive number of tracings could be due to (1) creating @tf.function repeatedly in a loop, (2) passing tensors with different shapes, (3) passing Python objects instead of tensors. For (1), please define your @tf.function outside of the loop. For (2), @tf.function has reduce_retracing=True option that can avoid unnecessary retracing. For (3), please refer to https://www.tensorflow.org/guide/function#controlling_retracing and https://www.tensorflow.org/api_docs/python/tf/function for  more details.\n"
     ]
    }
   ],
   "source": [
    "predictions = test_model.predict_generator(test_batches, steps=1, verbose=0)"
   ]
  },
  {
   "cell_type": "code",
   "execution_count": 164,
   "metadata": {},
   "outputs": [
    {
     "data": {
      "text/plain": [
       "array([[1.28914304e-02, 9.78865147e-01, 8.24346859e-03],\n",
       "       [9.99998808e-01, 1.61770515e-07, 1.06822631e-06],\n",
       "       [9.99947906e-01, 1.97480986e-05, 3.22709056e-05],\n",
       "       [9.99992609e-01, 6.80460607e-06, 6.40914379e-07],\n",
       "       [4.18469794e-02, 4.86012965e-01, 4.72140104e-01],\n",
       "       [9.99925971e-01, 2.66171155e-05, 4.74624940e-05],\n",
       "       [9.99998927e-01, 2.01216217e-08, 1.12939904e-06],\n",
       "       [9.99026299e-01, 6.18005171e-04, 3.55672528e-04],\n",
       "       [9.99970675e-01, 1.33255799e-05, 1.59811516e-05],\n",
       "       [9.80106950e-01, 1.35919834e-02, 6.30105799e-03],\n",
       "       [9.99999404e-01, 1.07449360e-07, 4.67029935e-07],\n",
       "       [1.51751965e-01, 6.20853364e-01, 2.27394715e-01],\n",
       "       [3.94729733e-01, 4.94902134e-01, 1.10368170e-01],\n",
       "       [1.00000000e+00, 1.14699039e-09, 4.09024503e-09],\n",
       "       [2.60643870e-01, 6.97405994e-01, 4.19501700e-02],\n",
       "       [9.99802411e-01, 1.71336535e-04, 2.62145877e-05],\n",
       "       [9.98268366e-01, 1.13004004e-03, 6.01540727e-04],\n",
       "       [9.14095938e-01, 6.50732368e-02, 2.08307635e-02],\n",
       "       [9.99920726e-01, 3.78066870e-05, 4.14867427e-05],\n",
       "       [9.98868763e-01, 7.40709656e-04, 3.90437141e-04],\n",
       "       [9.74510968e-01, 1.61272157e-02, 9.36186872e-03],\n",
       "       [1.42259076e-01, 8.18913162e-01, 3.88278030e-02],\n",
       "       [8.12950909e-01, 1.64212212e-01, 2.28368193e-02],\n",
       "       [9.51969530e-03, 1.20744305e-02, 9.78405833e-01],\n",
       "       [4.73694414e-01, 4.98378605e-01, 2.79269665e-02],\n",
       "       [9.99889016e-01, 3.74778538e-05, 7.35925205e-05],\n",
       "       [9.97561455e-01, 1.45428639e-04, 2.29314528e-03],\n",
       "       [9.99999762e-01, 6.28510151e-08, 1.13369644e-07],\n",
       "       [1.00000000e+00, 3.33384570e-11, 2.65005268e-10],\n",
       "       [9.99988794e-01, 2.37857125e-06, 8.79456911e-06],\n",
       "       [9.99943495e-01, 2.75462407e-05, 2.89856234e-05],\n",
       "       [1.42961711e-01, 2.48279363e-01, 6.08758867e-01],\n",
       "       [9.99505639e-01, 1.87957688e-04, 3.06447211e-04],\n",
       "       [9.99324322e-01, 1.73191525e-04, 5.02490555e-04],\n",
       "       [7.86600530e-01, 2.05677852e-01, 7.72155728e-03],\n",
       "       [6.50219738e-01, 2.73633748e-01, 7.61464685e-02],\n",
       "       [9.99987483e-01, 1.06290208e-05, 1.87553769e-06],\n",
       "       [3.43249179e-02, 7.62669027e-01, 2.03006059e-01],\n",
       "       [9.95235622e-01, 4.35783574e-03, 4.06584993e-04],\n",
       "       [7.18149841e-02, 8.57971609e-01, 7.02134073e-02],\n",
       "       [9.99942303e-01, 1.09378516e-05, 4.67438658e-05],\n",
       "       [7.74858475e-01, 1.76694468e-01, 4.84470315e-02],\n",
       "       [9.99898672e-01, 7.63898133e-05, 2.49569475e-05],\n",
       "       [2.25922391e-02, 8.83816361e-01, 9.35913548e-02],\n",
       "       [9.92061615e-01, 3.79961985e-03, 4.13877890e-03],\n",
       "       [1.00000000e+00, 2.01569716e-09, 1.15455023e-08],\n",
       "       [9.99990463e-01, 3.55839916e-06, 6.01679994e-06],\n",
       "       [9.37802851e-01, 5.33096679e-02, 8.88744835e-03],\n",
       "       [9.53569949e-01, 3.21804695e-02, 1.42497076e-02],\n",
       "       [9.78105783e-01, 1.16369249e-02, 1.02572860e-02],\n",
       "       [9.99999762e-01, 4.27254996e-08, 2.22511900e-07],\n",
       "       [9.05440390e-01, 9.29048434e-02, 1.65474461e-03],\n",
       "       [8.72157514e-02, 6.45047128e-01, 2.67737031e-01],\n",
       "       [5.21201611e-01, 4.53499496e-01, 2.52988562e-02],\n",
       "       [1.50873382e-02, 6.27716541e-01, 3.57196122e-01],\n",
       "       [9.99931216e-01, 1.50332708e-05, 5.37742781e-05],\n",
       "       [9.98885691e-01, 7.04315491e-04, 4.09941626e-04],\n",
       "       [1.00000000e+00, 1.45614220e-13, 3.99115420e-12],\n",
       "       [1.00000000e+00, 1.90324467e-08, 5.88069433e-08],\n",
       "       [1.00000000e+00, 5.07599429e-09, 3.31758656e-08]], dtype=float32)"
      ]
     },
     "execution_count": 164,
     "metadata": {},
     "output_type": "execute_result"
    }
   ],
   "source": [
    "predictions"
   ]
  },
  {
   "cell_type": "code",
   "execution_count": 165,
   "metadata": {},
   "outputs": [],
   "source": [
    "rounded_prediction = np.argmax(predictions, axis=-1)"
   ]
  },
  {
   "cell_type": "code",
   "execution_count": 166,
   "metadata": {},
   "outputs": [
    {
     "name": "stdout",
     "output_type": "stream",
     "text": [
      "1\n",
      "0\n",
      "0\n",
      "0\n",
      "1\n",
      "0\n",
      "0\n",
      "0\n",
      "0\n",
      "0\n",
      "0\n",
      "1\n",
      "1\n",
      "0\n",
      "1\n",
      "0\n",
      "0\n",
      "0\n",
      "0\n",
      "0\n",
      "0\n",
      "1\n",
      "0\n",
      "2\n",
      "1\n",
      "0\n",
      "0\n",
      "0\n",
      "0\n",
      "0\n",
      "0\n",
      "2\n",
      "0\n",
      "0\n",
      "0\n",
      "0\n",
      "0\n",
      "1\n",
      "0\n",
      "1\n",
      "0\n",
      "0\n",
      "0\n",
      "1\n",
      "0\n",
      "0\n",
      "0\n",
      "0\n",
      "0\n",
      "0\n",
      "0\n",
      "0\n",
      "1\n",
      "0\n",
      "1\n",
      "0\n",
      "0\n",
      "0\n",
      "0\n",
      "0\n"
     ]
    }
   ],
   "source": [
    "for i in rounded_prediction:\n",
    "    print(i)"
   ]
  },
  {
   "cell_type": "code",
   "execution_count": 167,
   "metadata": {},
   "outputs": [],
   "source": [
    "cm = confusion_matrix(y_true=rounded_labels, y_pred=rounded_prediction)"
   ]
  },
  {
   "cell_type": "code",
   "execution_count": 168,
   "metadata": {},
   "outputs": [],
   "source": [
    "def plot_confusion_matrix(cm, classes,\n",
    "                        normalize=False,\n",
    "                        title='',\n",
    "                        cmap=plt.cm.Blues):\n",
    "    \"\"\"\n",
    "    This function prints and plots the confusion matrix.\n",
    "    Normalization can be applied by setting `normalize=True`.\n",
    "    \"\"\"\n",
    "    plt.imshow(cm, interpolation='nearest', cmap=cmap)\n",
    "    plt.title(title)\n",
    "    #plt.colorbar()\n",
    "    tick_marks = np.arange(len(classes))\n",
    "    plt.xticks(tick_marks, classes, rotation=45)\n",
    "    plt.yticks(tick_marks, classes)\n",
    "\n",
    "    if normalize:\n",
    "        cm = cm.astype('float') / cm.sum(axis=1)[:, np.newaxis]\n",
    "        print(\"Normalized confusion matrix\")\n",
    "    else:\n",
    "        print('Confusion matrix, without normalization')\n",
    "\n",
    "    print(cm)\n",
    "\n",
    "    thresh = cm.max() / 2.\n",
    "    for i, j in itertools.product(range(cm.shape[0]), range(cm.shape[1])):\n",
    "        plt.text(j, i, cm[i, j],\n",
    "            horizontalalignment=\"center\",\n",
    "            color=\"white\" if cm[i, j] > thresh else \"black\")\n",
    "\n",
    "    plt.tight_layout()\n",
    "    plt.ylabel('True label')\n",
    "    plt.xlabel('Predicted label')"
   ]
  },
  {
   "cell_type": "code",
   "execution_count": 169,
   "metadata": {
    "scrolled": false
   },
   "outputs": [
    {
     "name": "stdout",
     "output_type": "stream",
     "text": [
      "Confusion matrix, without normalization\n",
      "[[20  0  0]\n",
      " [13  7  0]\n",
      " [13  5  2]]\n"
     ]
    },
    {
     "data": {
      "image/png": "[encoded data removed]",
      "text/plain": [
       "<Figure size 640x480 with 1 Axes>"
      ]
     },
     "metadata": {},
     "output_type": "display_data"
    }
   ],
   "source": [
    "cm_plot_labels = ['G1','G2', 'G3']\n",
    "plot_confusion_matrix(cm=cm, classes=cm_plot_labels, title='')"
   ]
  },
  {
   "cell_type": "code",
   "execution_count": 170,
   "metadata": {},
   "outputs": [
    {
     "name": "stderr",
     "output_type": "stream",
     "text": [
      "c:\\users\\terraform\\appdata\\local\\programs\\python\\python37\\lib\\site-packages\\ipykernel_launcher.py:24: DeprecationWarning: scipy.interp is deprecated and will be removed in SciPy 2.0.0, use numpy.interp instead\n"
     ]
    },
    {
     "data": {
      "image/png": "[encoded data removed]",
      "text/plain": [
       "<Figure size 640x480 with 1 Axes>"
      ]
     },
     "metadata": {},
     "output_type": "display_data"
    },
    {
     "data": {
      "image/png": "[encoded data removed]",
      "text/plain": [
       "<Figure size 640x480 with 1 Axes>"
      ]
     },
     "metadata": {},
     "output_type": "display_data"
    }
   ],
   "source": [
    "# Plot linewidth.\n",
    "lw = 2\n",
    "\n",
    "# Compute ROC curve and ROC area for each class\n",
    "fpr = dict()\n",
    "tpr = dict()\n",
    "roc_auc = dict()\n",
    "for i in range(3):\n",
    "    fpr[i], tpr[i], _ = roc_curve(test_labels[:, i], predictions[:, i])\n",
    "    roc_auc[i] = auc(fpr[i], tpr[i])\n",
    "\n",
    "# Compute micro-average ROC curve and ROC area\n",
    "fpr[\"micro\"], tpr[\"micro\"], _ = roc_curve(test_labels.ravel(), predictions.ravel())\n",
    "roc_auc[\"micro\"] = auc(fpr[\"micro\"], tpr[\"micro\"])\n",
    "\n",
    "# Compute macro-average ROC curve and ROC area\n",
    "\n",
    "# First aggregate all false positive rates\n",
    "all_fpr = np.unique(np.concatenate([fpr[i] for i in range(2)]))\n",
    "\n",
    "# Then interpolate all ROC curves at this points\n",
    "mean_tpr = np.zeros_like(all_fpr)\n",
    "for i in range(3):\n",
    "    mean_tpr += interp(all_fpr, fpr[i], tpr[i])\n",
    "\n",
    "# Finally average it and compute AUC\n",
    "mean_tpr /= 2\n",
    "\n",
    "fpr[\"macro\"] = all_fpr\n",
    "tpr[\"macro\"] = mean_tpr\n",
    "roc_auc[\"macro\"] = auc(fpr[\"macro\"], tpr[\"macro\"])\n",
    "\n",
    "# Plot all ROC curves\n",
    "plt.figure(1)\n",
    "plt.plot(fpr[\"micro\"], tpr[\"micro\"],\n",
    "         label='micro-average ROC curve (area = {0:0.2f})'\n",
    "               ''.format(roc_auc[\"micro\"]),\n",
    "         color='deeppink', linestyle=':', linewidth=4)\n",
    "\n",
    "plt.plot(fpr[\"macro\"], tpr[\"macro\"],\n",
    "         label='macro-average ROC curve (area = {0:0.2f})'\n",
    "               ''.format(roc_auc[\"macro\"]),\n",
    "         color='navy', linestyle=':', linewidth=4)\n",
    "\n",
    "colors = cycle(['aqua', 'darkorange', 'cornflowerblue'])\n",
    "for i, color in zip(range(3), colors):\n",
    "    plt.plot(fpr[i], tpr[i], color=color, lw=lw,\n",
    "             label='ROC curve of class {0} (area = {1:0.2f})'\n",
    "             ''.format(i, roc_auc[i]))\n",
    "\n",
    "plt.plot([0, 1], [0, 1], 'k--', lw=lw)\n",
    "plt.xlim([0.0, 1.0])\n",
    "plt.ylim([0.0, 1.05])\n",
    "plt.xlabel('False Positive Rate')\n",
    "plt.ylabel('True Positive Rate')\n",
    "#plt.title('Some extension of Receiver operating characteristic to multi-class')\n",
    "plt.legend(loc=\"lower right\")\n",
    "plt.show()\n",
    "\n",
    "# Zoom in view of the upper left corner.\n",
    "plt.figure(2)\n",
    "plt.xlim(0, 0.2)\n",
    "plt.ylim(0.8, 1)\n",
    "plt.plot(fpr[\"micro\"], tpr[\"micro\"],\n",
    "         label='micro-average ROC curve (area = {0:0.2f})'\n",
    "               ''.format(roc_auc[\"micro\"]),\n",
    "         color='deeppink', linestyle=':', linewidth=4)\n",
    "\n",
    "plt.plot(fpr[\"macro\"], tpr[\"macro\"],\n",
    "         label='macro-average ROC curve (area = {0:0.2f})'\n",
    "               ''.format(roc_auc[\"macro\"]),\n",
    "         color='navy', linestyle=':', linewidth=4)\n",
    "\n",
    "colors = cycle(['aqua', 'darkorange', 'cornflowerblue'])\n",
    "for i, color in zip(range(2), colors):\n",
    "    plt.plot(fpr[i], tpr[i], color=color, lw=lw,\n",
    "             label='ROC curve of class {0} (area = {1:0.2f})'\n",
    "             ''.format(i, roc_auc[i]))\n",
    "\n",
    "plt.plot([0, 1], [0, 1], 'k--', lw=lw)\n",
    "plt.xlabel('False Positive Rate')\n",
    "plt.ylabel('True Positive Rate')\n",
    "#plt.title('Some extension of Receiver operating characteristic to multi-class')\n",
    "plt.legend(loc=\"lower right\")\n",
    "plt.show()\n",
    "\n"
   ]
  },
  {
   "cell_type": "code",
   "execution_count": 171,
   "metadata": {},
   "outputs": [],
   "source": [
    "from sklearn.metrics import classification_report"
   ]
  },
  {
   "cell_type": "code",
   "execution_count": 172,
   "metadata": {},
   "outputs": [
    {
     "name": "stdout",
     "output_type": "stream",
     "text": [
      "              precision    recall  f1-score   support\n",
      "\n",
      "           0       0.43      1.00      0.61        20\n",
      "           1       0.58      0.35      0.44        20\n",
      "           2       1.00      0.10      0.18        20\n",
      "\n",
      "    accuracy                           0.48        60\n",
      "   macro avg       0.67      0.48      0.41        60\n",
      "weighted avg       0.67      0.48      0.41        60\n",
      "\n"
     ]
    }
   ],
   "source": [
    "print(classification_report(y_true=rounded_labels, y_pred=rounded_prediction))"
   ]
  },
  {
   "cell_type": "code",
   "execution_count": 173,
   "metadata": {},
   "outputs": [
    {
     "name": "stdout",
     "output_type": "stream",
     "text": [
      "Log loss score: 3.239514825205032\n"
     ]
    }
   ],
   "source": [
    "score = metrics.log_loss(test_labels,predictions)\n",
    "print(\"Log loss score: {}\".format(score))"
   ]
  },
  {
   "cell_type": "code",
   "execution_count": 174,
   "metadata": {},
   "outputs": [
    {
     "ename": "ValueError",
     "evalue": "x and y must have same first dimension, but have shapes (120,) and (1,)",
     "output_type": "error",
     "traceback": [
      "\u001b[1;31m---------------------------------------------------------------------------\u001b[0m",
      "\u001b[1;31mValueError\u001b[0m                                Traceback (most recent call last)",
      "\u001b[1;32m~\\AppData\\Local\\Temp\\ipykernel_3736\\701363452.py\u001b[0m in \u001b[0;36m<module>\u001b[1;34m\u001b[0m\n\u001b[0;32m      3\u001b[0m \u001b[1;33m\u001b[0m\u001b[0m\n\u001b[0;32m      4\u001b[0m \u001b[0mplt\u001b[0m\u001b[1;33m.\u001b[0m\u001b[0mplot\u001b[0m\u001b[1;33m(\u001b[0m\u001b[0mrange\u001b[0m\u001b[1;33m(\u001b[0m\u001b[0mlen\u001b[0m\u001b[1;33m(\u001b[0m\u001b[0maccs\u001b[0m\u001b[1;33m)\u001b[0m\u001b[1;33m)\u001b[0m\u001b[1;33m,\u001b[0m\u001b[0maccs\u001b[0m\u001b[1;33m,\u001b[0m \u001b[0mlabel\u001b[0m \u001b[1;33m=\u001b[0m \u001b[1;34m'Training_accuracy'\u001b[0m\u001b[1;33m)\u001b[0m\u001b[1;33m\u001b[0m\u001b[1;33m\u001b[0m\u001b[0m\n\u001b[1;32m----> 5\u001b[1;33m \u001b[0mplt\u001b[0m\u001b[1;33m.\u001b[0m\u001b[0mplot\u001b[0m\u001b[1;33m(\u001b[0m\u001b[0mrange\u001b[0m\u001b[1;33m(\u001b[0m\u001b[0mlen\u001b[0m\u001b[1;33m(\u001b[0m\u001b[0maccs\u001b[0m\u001b[1;33m)\u001b[0m\u001b[1;33m)\u001b[0m\u001b[1;33m,\u001b[0m\u001b[0mval_accs\u001b[0m\u001b[1;33m,\u001b[0m \u001b[0mlabel\u001b[0m \u001b[1;33m=\u001b[0m \u001b[1;34m'Validation_accuracy'\u001b[0m\u001b[1;33m)\u001b[0m\u001b[1;33m\u001b[0m\u001b[1;33m\u001b[0m\u001b[0m\n\u001b[0m\u001b[0;32m      6\u001b[0m \u001b[0mplt\u001b[0m\u001b[1;33m.\u001b[0m\u001b[0mylabel\u001b[0m\u001b[1;33m(\u001b[0m\u001b[1;34m'accuracy'\u001b[0m\u001b[1;33m)\u001b[0m\u001b[1;33m\u001b[0m\u001b[1;33m\u001b[0m\u001b[0m\n\u001b[0;32m      7\u001b[0m \u001b[0mplt\u001b[0m\u001b[1;33m.\u001b[0m\u001b[0mxlabel\u001b[0m\u001b[1;33m(\u001b[0m\u001b[1;34m'epochs'\u001b[0m\u001b[1;33m)\u001b[0m\u001b[1;33m\u001b[0m\u001b[1;33m\u001b[0m\u001b[0m\n",
      "\u001b[1;32mc:\\users\\terraform\\appdata\\local\\programs\\python\\python37\\lib\\site-packages\\matplotlib\\pyplot.py\u001b[0m in \u001b[0;36mplot\u001b[1;34m(scalex, scaley, data, *args, **kwargs)\u001b[0m\n\u001b[0;32m   2767\u001b[0m     return gca().plot(\n\u001b[0;32m   2768\u001b[0m         \u001b[1;33m*\u001b[0m\u001b[0margs\u001b[0m\u001b[1;33m,\u001b[0m \u001b[0mscalex\u001b[0m\u001b[1;33m=\u001b[0m\u001b[0mscalex\u001b[0m\u001b[1;33m,\u001b[0m \u001b[0mscaley\u001b[0m\u001b[1;33m=\u001b[0m\u001b[0mscaley\u001b[0m\u001b[1;33m,\u001b[0m\u001b[1;33m\u001b[0m\u001b[1;33m\u001b[0m\u001b[0m\n\u001b[1;32m-> 2769\u001b[1;33m         **({\"data\": data} if data is not None else {}), **kwargs)\n\u001b[0m\u001b[0;32m   2770\u001b[0m \u001b[1;33m\u001b[0m\u001b[0m\n\u001b[0;32m   2771\u001b[0m \u001b[1;33m\u001b[0m\u001b[0m\n",
      "\u001b[1;32mc:\\users\\terraform\\appdata\\local\\programs\\python\\python37\\lib\\site-packages\\matplotlib\\axes\\_axes.py\u001b[0m in \u001b[0;36mplot\u001b[1;34m(self, scalex, scaley, data, *args, **kwargs)\u001b[0m\n\u001b[0;32m   1633\u001b[0m         \"\"\"\n\u001b[0;32m   1634\u001b[0m         \u001b[0mkwargs\u001b[0m \u001b[1;33m=\u001b[0m \u001b[0mcbook\u001b[0m\u001b[1;33m.\u001b[0m\u001b[0mnormalize_kwargs\u001b[0m\u001b[1;33m(\u001b[0m\u001b[0mkwargs\u001b[0m\u001b[1;33m,\u001b[0m \u001b[0mmlines\u001b[0m\u001b[1;33m.\u001b[0m\u001b[0mLine2D\u001b[0m\u001b[1;33m)\u001b[0m\u001b[1;33m\u001b[0m\u001b[1;33m\u001b[0m\u001b[0m\n\u001b[1;32m-> 1635\u001b[1;33m         \u001b[0mlines\u001b[0m \u001b[1;33m=\u001b[0m \u001b[1;33m[\u001b[0m\u001b[1;33m*\u001b[0m\u001b[0mself\u001b[0m\u001b[1;33m.\u001b[0m\u001b[0m_get_lines\u001b[0m\u001b[1;33m(\u001b[0m\u001b[1;33m*\u001b[0m\u001b[0margs\u001b[0m\u001b[1;33m,\u001b[0m \u001b[0mdata\u001b[0m\u001b[1;33m=\u001b[0m\u001b[0mdata\u001b[0m\u001b[1;33m,\u001b[0m \u001b[1;33m**\u001b[0m\u001b[0mkwargs\u001b[0m\u001b[1;33m)\u001b[0m\u001b[1;33m]\u001b[0m\u001b[1;33m\u001b[0m\u001b[1;33m\u001b[0m\u001b[0m\n\u001b[0m\u001b[0;32m   1636\u001b[0m         \u001b[1;32mfor\u001b[0m \u001b[0mline\u001b[0m \u001b[1;32min\u001b[0m \u001b[0mlines\u001b[0m\u001b[1;33m:\u001b[0m\u001b[1;33m\u001b[0m\u001b[1;33m\u001b[0m\u001b[0m\n\u001b[0;32m   1637\u001b[0m             \u001b[0mself\u001b[0m\u001b[1;33m.\u001b[0m\u001b[0madd_line\u001b[0m\u001b[1;33m(\u001b[0m\u001b[0mline\u001b[0m\u001b[1;33m)\u001b[0m\u001b[1;33m\u001b[0m\u001b[1;33m\u001b[0m\u001b[0m\n",
      "\u001b[1;32mc:\\users\\terraform\\appdata\\local\\programs\\python\\python37\\lib\\site-packages\\matplotlib\\axes\\_base.py\u001b[0m in \u001b[0;36m__call__\u001b[1;34m(self, data, *args, **kwargs)\u001b[0m\n\u001b[0;32m    310\u001b[0m                 \u001b[0mthis\u001b[0m \u001b[1;33m+=\u001b[0m \u001b[0margs\u001b[0m\u001b[1;33m[\u001b[0m\u001b[1;36m0\u001b[0m\u001b[1;33m]\u001b[0m\u001b[1;33m,\u001b[0m\u001b[1;33m\u001b[0m\u001b[1;33m\u001b[0m\u001b[0m\n\u001b[0;32m    311\u001b[0m                 \u001b[0margs\u001b[0m \u001b[1;33m=\u001b[0m \u001b[0margs\u001b[0m\u001b[1;33m[\u001b[0m\u001b[1;36m1\u001b[0m\u001b[1;33m:\u001b[0m\u001b[1;33m]\u001b[0m\u001b[1;33m\u001b[0m\u001b[1;33m\u001b[0m\u001b[0m\n\u001b[1;32m--> 312\u001b[1;33m             \u001b[1;32myield\u001b[0m \u001b[1;32mfrom\u001b[0m \u001b[0mself\u001b[0m\u001b[1;33m.\u001b[0m\u001b[0m_plot_args\u001b[0m\u001b[1;33m(\u001b[0m\u001b[0mthis\u001b[0m\u001b[1;33m,\u001b[0m \u001b[0mkwargs\u001b[0m\u001b[1;33m)\u001b[0m\u001b[1;33m\u001b[0m\u001b[1;33m\u001b[0m\u001b[0m\n\u001b[0m\u001b[0;32m    313\u001b[0m \u001b[1;33m\u001b[0m\u001b[0m\n\u001b[0;32m    314\u001b[0m     \u001b[1;32mdef\u001b[0m \u001b[0mget_next_color\u001b[0m\u001b[1;33m(\u001b[0m\u001b[0mself\u001b[0m\u001b[1;33m)\u001b[0m\u001b[1;33m:\u001b[0m\u001b[1;33m\u001b[0m\u001b[1;33m\u001b[0m\u001b[0m\n",
      "\u001b[1;32mc:\\users\\terraform\\appdata\\local\\programs\\python\\python37\\lib\\site-packages\\matplotlib\\axes\\_base.py\u001b[0m in \u001b[0;36m_plot_args\u001b[1;34m(self, tup, kwargs, return_kwargs)\u001b[0m\n\u001b[0;32m    496\u001b[0m \u001b[1;33m\u001b[0m\u001b[0m\n\u001b[0;32m    497\u001b[0m         \u001b[1;32mif\u001b[0m \u001b[0mx\u001b[0m\u001b[1;33m.\u001b[0m\u001b[0mshape\u001b[0m\u001b[1;33m[\u001b[0m\u001b[1;36m0\u001b[0m\u001b[1;33m]\u001b[0m \u001b[1;33m!=\u001b[0m \u001b[0my\u001b[0m\u001b[1;33m.\u001b[0m\u001b[0mshape\u001b[0m\u001b[1;33m[\u001b[0m\u001b[1;36m0\u001b[0m\u001b[1;33m]\u001b[0m\u001b[1;33m:\u001b[0m\u001b[1;33m\u001b[0m\u001b[1;33m\u001b[0m\u001b[0m\n\u001b[1;32m--> 498\u001b[1;33m             raise ValueError(f\"x and y must have same first dimension, but \"\n\u001b[0m\u001b[0;32m    499\u001b[0m                              f\"have shapes {x.shape} and {y.shape}\")\n\u001b[0;32m    500\u001b[0m         \u001b[1;32mif\u001b[0m \u001b[0mx\u001b[0m\u001b[1;33m.\u001b[0m\u001b[0mndim\u001b[0m \u001b[1;33m>\u001b[0m \u001b[1;36m2\u001b[0m \u001b[1;32mor\u001b[0m \u001b[0my\u001b[0m\u001b[1;33m.\u001b[0m\u001b[0mndim\u001b[0m \u001b[1;33m>\u001b[0m \u001b[1;36m2\u001b[0m\u001b[1;33m:\u001b[0m\u001b[1;33m\u001b[0m\u001b[1;33m\u001b[0m\u001b[0m\n",
      "\u001b[1;31mValueError\u001b[0m: x and y must have same first dimension, but have shapes (120,) and (1,)"
     ]
    },
    {
     "data": {
      "image/png": "[encoded data removed]",
      "text/plain": [
       "<Figure size 640x480 with 1 Axes>"
      ]
     },
     "metadata": {},
     "output_type": "display_data"
    }
   ],
   "source": [
    "accs = h.history['accuracy']\n",
    "val_accs = h.history['val_accuracy']\n",
    "\n",
    "plt.plot(range(len(accs)),accs, label = 'Training_accuracy')\n",
    "plt.plot(range(len(accs)),val_accs, label = 'Validation_accuracy')\n",
    "plt.ylabel('accuracy')\n",
    "plt.xlabel('epochs')\n",
    "plt.legend()\n",
    "plt.show()"
   ]
  },
  {
   "cell_type": "code",
   "execution_count": null,
   "metadata": {},
   "outputs": [],
   "source": [
    "accs = h.history['loss']\n",
    "val_accs = h.history['val_loss']\n",
    "\n",
    "plt.plot(range(len(accs)),accs, label = 'Training_loss')\n",
    "plt.plot(range(len(accs)),val_accs, label = 'Validation_loss')\n",
    "plt.ylabel('loss')\n",
    "plt.xlabel('epochs')\n",
    "plt.legend()\n",
    "plt.show()"
   ]
  },
  {
   "cell_type": "code",
   "execution_count": null,
   "metadata": {},
   "outputs": [],
   "source": []
  },
  {
   "cell_type": "code",
   "execution_count": null,
   "metadata": {},
   "outputs": [],
   "source": []
  },
  {
   "cell_type": "code",
   "execution_count": null,
   "metadata": {},
   "outputs": [],
   "source": []
  },
  {
   "cell_type": "code",
   "execution_count": null,
   "metadata": {},
   "outputs": [],
   "source": []
  }
 ],
 "metadata": {
  "kernelspec": {
   "display_name": "Python 3 (ipykernel)",
   "language": "python",
   "name": "python3"
  },
  "language_info": {
   "codemirror_mode": {
    "name": "ipython",
    "version": 3
   },
   "file_extension": ".py",
   "mimetype": "text/x-python",
   "name": "python",
   "nbconvert_exporter": "python",
   "pygments_lexer": "ipython3",
   "version": "3.7.8rc1"
  }
 },
 "nbformat": 4,
 "nbformat_minor": 4
}
